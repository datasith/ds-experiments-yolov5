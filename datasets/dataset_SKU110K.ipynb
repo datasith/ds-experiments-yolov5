{
 "cells": [
  {
   "cell_type": "markdown",
   "id": "6c05be40-e8bc-4c30-959e-847017d8e801",
   "metadata": {},
   "source": [
    "#### Download and extract the SKU110K dataset"
   ]
  },
  {
   "cell_type": "code",
   "execution_count": 17,
   "id": "d5fbfa03-a3ca-43a8-a3c0-d94c8a94713e",
   "metadata": {},
   "outputs": [
    {
     "name": "stdout",
     "output_type": "stream",
     "text": [
      "--2022-01-29 03:52:37--  http://trax-geometry.s3.amazonaws.com/cvpr_challenge/SKU110K_fixed.tar.gz\n",
      "Resolving trax-geometry.s3.amazonaws.com (trax-geometry.s3.amazonaws.com)... 52.217.136.217\n",
      "Connecting to trax-geometry.s3.amazonaws.com (trax-geometry.s3.amazonaws.com)|52.217.136.217|:80... connected.\n",
      "HTTP request sent, awaiting response... 200 OK\n",
      "Length: 12196152718 (11G) [application/x-gzip]\n",
      "Saving to: ‘cache/SKU110K_fixed.tar.gz’\n",
      "\n",
      "SKU110K_fixed.tar.g 100%[===================>]  11.36G  4.72MB/s    in 37m 3s  \n",
      "\n",
      "2022-01-29 04:29:40 (5.23 MB/s) - ‘cache/SKU110K_fixed.tar.gz’ saved [12196152718/12196152718]\n",
      "\n",
      "tar: Error opening archive: Failed to open 'SKU110K_fixed.tar.gz'\n"
     ]
    }
   ],
   "source": [
    "# download, decompress the data\n",
    "!wget http://trax-geometry.s3.amazonaws.com/cvpr_challenge/SKU110K_fixed.tar.gz"
   ]
  },
  {
   "cell_type": "code",
   "execution_count": 22,
   "id": "d04d45c2-918e-4b6f-9680-4a4dd1c967ed",
   "metadata": {},
   "outputs": [
    {
     "name": "stdout",
     "output_type": "stream",
     "text": [
      "tar: Error opening archive: Failed to open 'SKU110K_fixed.tar.gz'\n"
     ]
    }
   ],
   "source": [
    "!tar -xvf SKU110K_fixed.tar.gz > /dev/null"
   ]
  },
  {
   "cell_type": "markdown",
   "id": "e858346d-08e1-49a8-a503-6f4b2d93fc33",
   "metadata": {},
   "source": [
    "#### Set up the dataset's local path"
   ]
  },
  {
   "cell_type": "code",
   "execution_count": 18,
   "id": "4a3dadeb-d323-4af8-93d9-4d5660d263ee",
   "metadata": {},
   "outputs": [],
   "source": [
    "import os\n",
    "import pandas as pd\n",
    "from pathlib import Path\n",
    "local_folder = os.getcwd()\n",
    "sku_dataset_dirname = 'SKU110K_fixed'\n",
    "path_images = Path(local_folder) / sku_dataset_dirname / \"images\""
   ]
  },
  {
   "cell_type": "markdown",
   "id": "41b80d4f-94b2-4041-87ff-b12ed88da744",
   "metadata": {},
   "source": [
    "#### Re-organize files into test, train, and validation "
   ]
  },
  {
   "cell_type": "code",
   "execution_count": 11,
   "id": "3da85e39-02bc-43a0-a88d-fb5fc089c742",
   "metadata": {},
   "outputs": [],
   "source": [
    "prefix_to_channel = {\n",
    "    \"train\": \"train\",\n",
    "    \"val\": \"validation\",\n",
    "    \"test\": \"test\",\n",
    "}\n",
    "\n",
    "assert path_images.exists(), f\"{path_images} not found\"\n",
    "\n",
    "for channel_name in prefix_to_channel.values():\n",
    "    if not (path_images.parent / channel_name).exists():\n",
    "        (path_images.parent / channel_name).mkdir()\n",
    "\n",
    "for path_img in path_images.iterdir():\n",
    "    for prefix in prefix_to_channel:\n",
    "        if path_img.name.startswith(prefix):\n",
    "            path_img.replace(\n",
    "                path_images.parent / prefix_to_channel[prefix] / path_img.name\n",
    "            )"
   ]
  },
  {
   "cell_type": "markdown",
   "id": "1f6acbc1-1503-4d93-97c4-a0eab9526eef",
   "metadata": {},
   "source": [
    "#### Remove corrupted files"
   ]
  },
  {
   "cell_type": "code",
   "execution_count": 12,
   "id": "f33787bb-987a-4ae8-98d8-a42f7ab4f653",
   "metadata": {},
   "outputs": [],
   "source": [
    "CORRUPTED_IMAGES = {\n",
    "    \"train\": (\"train_4222.jpg\", \"train_5822.jpg\", \"train_882.jpg\", \"train_924.jpg\"),\n",
    "    \"validation\": tuple(),\n",
    "    \"test\": (\"test_274.jpg\", \"test_2924.jpg\"),\n",
    "}"
   ]
  },
  {
   "cell_type": "code",
   "execution_count": 13,
   "id": "a10df4e3-c45e-4246-b520-2ff00a9951bd",
   "metadata": {},
   "outputs": [
    {
     "name": "stdout",
     "output_type": "stream",
     "text": [
      "train_4222.jpg removed from channel train \n",
      "train_5822.jpg removed from channel train \n",
      "train_882.jpg removed from channel train \n",
      "train_924.jpg removed from channel train \n",
      "test_274.jpg removed from channel test \n",
      "test_2924.jpg removed from channel test \n"
     ]
    }
   ],
   "source": [
    "for channel_name in prefix_to_channel.values():\n",
    "    for img_name in CORRUPTED_IMAGES[channel_name]:\n",
    "        try:\n",
    "            (path_images.parent / channel_name / img_name).unlink()\n",
    "            print(f\"{img_name} removed from channel {channel_name} \")\n",
    "        except FileNotFoundError:\n",
    "            print(f\"{img_name} not in channel {channel_name}\")"
   ]
  },
  {
   "cell_type": "code",
   "execution_count": 14,
   "id": "55dfce98-debb-464a-811a-f27c835a0f20",
   "metadata": {},
   "outputs": [
    {
     "name": "stdout",
     "output_type": "stream",
     "text": [
      "Number of train images = 8215\n",
      "Number of validation images = 588\n",
      "Number of test images = 2934\n"
     ]
    }
   ],
   "source": [
    "# Expected output:\n",
    "# Number of train images = 8215\n",
    "# Number of validation images = 588\n",
    "# Number of test images = 2934\n",
    "for channel_name in prefix_to_channel.values():\n",
    "    print(\n",
    "        f\"Number of {channel_name} images = {sum(1 for x in (path_images.parent / channel_name).glob('*.jpg'))}\"\n",
    "    )"
   ]
  },
  {
   "cell_type": "code",
   "execution_count": 20,
   "id": "cce703c1-f3d0-40af-a1b8-07d8d15db22c",
   "metadata": {},
   "outputs": [],
   "source": [
    "os.rmdir(path_images)"
   ]
  }
 ],
 "metadata": {
  "kernelspec": {
   "display_name": "Python 3",
   "language": "python",
   "name": "python3"
  },
  "language_info": {
   "codemirror_mode": {
    "name": "ipython",
    "version": 3
   },
   "file_extension": ".py",
   "mimetype": "text/x-python",
   "name": "python",
   "nbconvert_exporter": "python",
   "pygments_lexer": "ipython3",
   "version": "3.8.8"
  }
 },
 "nbformat": 4,
 "nbformat_minor": 5
}
